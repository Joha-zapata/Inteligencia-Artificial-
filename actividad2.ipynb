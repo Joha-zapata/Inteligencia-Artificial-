{
 "cells": [
  {
   "cell_type": "markdown",
   "id": "c99a1602-7bb6-4682-9ffd-c33ac2943610",
   "metadata": {},
   "source": [
    "Actividad 2 - Búsqueda y sistemas basados en reglas"
   ]
  },
  {
   "cell_type": "markdown",
   "id": "73fa17a8-86e1-416c-8001-0b94ee41a3cd",
   "metadata": {},
   "source": [
    "Cindy Johanna Zapata Romero\n",
    "Inteligencia artificial (JORGE CASTAÑEDA 26082024_C1_202434)"
   ]
  },
  {
   "cell_type": "code",
   "execution_count": 1,
   "id": "91468c42-6cbe-45fe-868f-51d8a1a52d68",
   "metadata": {
    "tags": []
   },
   "outputs": [
    {
     "name": "stdout",
     "output_type": "stream",
     "text": [
      "La mejor ruta de A a F es: A -> B -> D -> E -> F\n"
     ]
    }
   ],
   "source": [
    "class TransporteMasivo:\n",
    "    def __init__(self):\n",
    "        # Definimos las rutas como una lista de conexiones entre puntos\n",
    "        self.rutas = {\n",
    "            'A': ['B', 'C'],\n",
    "            'B': ['A', 'D', 'E'],\n",
    "            'C': ['A', 'F'],\n",
    "            'D': ['B', 'E'],\n",
    "            'E': ['B', 'D', 'F'],\n",
    "            'F': ['C', 'E']\n",
    "        }\n",
    "    \n",
    "    def buscar_ruta(self, inicio, destino, ruta=None):\n",
    "        if ruta is None:\n",
    "            ruta = []\n",
    "        ruta = ruta + [inicio]\n",
    "        \n",
    "        # Si el inicio y el destino son iguales, ya encontramos la ruta\n",
    "        if inicio == destino:\n",
    "            return ruta\n",
    "        \n",
    "        # Si el punto de inicio no está en las rutas, no hay camino\n",
    "        if inicio not in self.rutas:\n",
    "            return None\n",
    "        \n",
    "        # Buscamos entre las rutas para encontrar la mejor\n",
    "        for nodo in self.rutas[inicio]:\n",
    "            if nodo not in ruta:\n",
    "                nueva_ruta = self.buscar_ruta(nodo, destino, ruta)\n",
    "                if nueva_ruta:\n",
    "                    return nueva_ruta\n",
    "        \n",
    "        return None\n",
    "\n",
    "# Ejemplo de uso\n",
    "transporte = TransporteMasivo()\n",
    "inicio = 'A'\n",
    "destino = 'F'\n",
    "ruta = transporte.buscar_ruta(inicio, destino)\n",
    "\n",
    "if ruta:\n",
    "    print(f\"La mejor ruta de {inicio} a {destino} es: {' -> '.join(ruta)}\")\n",
    "else:\n",
    "    print(f\"No se encontró ruta de {inicio} a {destino}.\")"
   ]
  },
  {
   "cell_type": "code",
   "execution_count": 5,
   "id": "6474065c-b968-4ab3-ae3f-19f0b6763264",
   "metadata": {
    "tags": []
   },
   "outputs": [
    {
     "name": "stdout",
     "output_type": "stream",
     "text": [
      "Rutas válidas:\n",
      "Ruta de A a F: A -> B -> D -> E -> F\n",
      "Ruta de B a D: B -> A -> C -> F -> E -> D\n",
      "Ruta de C a E: C -> A -> B -> D -> E\n",
      "Ruta de A a A: A\n"
     ]
    }
   ],
   "source": [
    "# Ejemplos de rutas válidas\n",
    "print(\"Rutas válidas:\")\n",
    "ruta1 = transporte.buscar_ruta('A', 'F')\n",
    "print(f\"Ruta de A a F: {' -> '.join(ruta1) if ruta1 else 'No se encontró ruta.'}\")\n",
    "\n",
    "ruta2 = transporte.buscar_ruta('B', 'D')\n",
    "print(f\"Ruta de B a D: {' -> '.join(ruta2) if ruta2 else 'No se encontró ruta.'}\")\n",
    "\n",
    "ruta3 = transporte.buscar_ruta('C', 'E')\n",
    "print(f\"Ruta de C a E: {' -> '.join(ruta3) if ruta3 else 'No se encontró ruta.'}\")\n",
    "\n",
    "ruta4 = transporte.buscar_ruta('A', 'A')\n",
    "print(f\"Ruta de A a A: {' -> '.join(ruta4) if ruta4 else 'No se encontró ruta.'}\")"
   ]
  },
  {
   "cell_type": "code",
   "execution_count": 9,
   "id": "f787ac73-759d-477c-9513-0322a3032131",
   "metadata": {
    "tags": []
   },
   "outputs": [
    {
     "name": "stdout",
     "output_type": "stream",
     "text": [
      "\n",
      "Rutas sin solución:\n",
      "Ruta de D a C: D -> B -> A -> C\n",
      "Ruta de G a A: No se encontró ruta.\n",
      "Ruta de F a B: F -> C -> A -> B\n",
      "Ruta de Z a E: No se encontró ruta.\n"
     ]
    }
   ],
   "source": [
    "# Ejemplos de rutas inválidas (sin camino)\n",
    "print(\"\\nRutas sin solución:\")\n",
    "ruta5 = transporte.buscar_ruta('D', 'C')\n",
    "print(f\"Ruta de D a C: {' -> '.join(ruta5) if ruta5 else 'No se encontró ruta.'}\")\n",
    "\n",
    "ruta6 = transporte.buscar_ruta('G', 'A')\n",
    "print(f\"Ruta de G a A: {' -> '.join(ruta6) if ruta6 else 'No se encontró ruta.'}\")\n",
    "\n",
    "ruta7 = transporte.buscar_ruta('F', 'B')\n",
    "print(f\"Ruta de F a B: {' -> '.join(ruta7) if ruta7 else 'No se encontró ruta.'}\")\n",
    "\n",
    "ruta8 = transporte.buscar_ruta('Z', 'E')\n",
    "print(f\"Ruta de Z a E: {' -> '.join(ruta8) if ruta8 else 'No se encontró ruta.'}\")"
   ]
  },
  {
   "cell_type": "code",
   "execution_count": null,
   "id": "2937bf5d-22bf-43ba-a9cf-71db63d0594a",
   "metadata": {},
   "outputs": [],
   "source": [
    "Gracias"
   ]
  }
 ],
 "metadata": {
  "kernelspec": {
   "display_name": "Python 3 (ipykernel)",
   "language": "python",
   "name": "python3"
  },
  "language_info": {
   "codemirror_mode": {
    "name": "ipython",
    "version": 3
   },
   "file_extension": ".py",
   "mimetype": "text/x-python",
   "name": "python",
   "nbconvert_exporter": "python",
   "pygments_lexer": "ipython3",
   "version": "3.11.5"
  }
 },
 "nbformat": 4,
 "nbformat_minor": 5
}
