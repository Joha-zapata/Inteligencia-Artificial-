{
 "cells": [
  {
   "cell_type": "markdown",
   "id": "946d5223-c168-4a8d-a555-655a75765279",
   "metadata": {},
   "source": [
    "# Actividad 3 - Métodos de aprendizaje supervisado"
   ]
  },
  {
   "cell_type": "markdown",
   "id": "10d96a94-ada2-41d5-ab2a-57aa00671332",
   "metadata": {},
   "source": [
    "Cindy Johanna Zapata Romero"
   ]
  },
  {
   "cell_type": "markdown",
   "id": "2079dd69-c150-4e10-814a-e579bc179359",
   "metadata": {},
   "source": [
    "# Paso 1: Crear un Dataset Simulado\n",
    "Usaré Python y pandas para crear un dataset que se puede usar en el desarrollo de un modelo de aprendizaje supervisado."
   ]
  },
  {
   "cell_type": "code",
   "execution_count": 25,
   "id": "98d9e63d-8180-4714-8f85-023060409445",
   "metadata": {
    "tags": []
   },
   "outputs": [
    {
     "data": {
      "text/html": [
       "<div>\n",
       "<style scoped>\n",
       "    .dataframe tbody tr th:only-of-type {\n",
       "        vertical-align: middle;\n",
       "    }\n",
       "\n",
       "    .dataframe tbody tr th {\n",
       "        vertical-align: top;\n",
       "    }\n",
       "\n",
       "    .dataframe thead th {\n",
       "        text-align: right;\n",
       "    }\n",
       "</style>\n",
       "<table border=\"1\" class=\"dataframe\">\n",
       "  <thead>\n",
       "    <tr style=\"text-align: right;\">\n",
       "      <th></th>\n",
       "      <th>origen</th>\n",
       "      <th>destino</th>\n",
       "      <th>tiempo_viaje</th>\n",
       "      <th>num_pasajeros</th>\n",
       "      <th>clima</th>\n",
       "      <th>retraso</th>\n",
       "    </tr>\n",
       "  </thead>\n",
       "  <tbody>\n",
       "    <tr>\n",
       "      <th>0</th>\n",
       "      <td>D</td>\n",
       "      <td>E</td>\n",
       "      <td>36</td>\n",
       "      <td>217</td>\n",
       "      <td>nublado</td>\n",
       "      <td>1</td>\n",
       "    </tr>\n",
       "    <tr>\n",
       "      <th>1</th>\n",
       "      <td>E</td>\n",
       "      <td>A</td>\n",
       "      <td>36</td>\n",
       "      <td>140</td>\n",
       "      <td>lluvioso</td>\n",
       "      <td>1</td>\n",
       "    </tr>\n",
       "    <tr>\n",
       "      <th>2</th>\n",
       "      <td>C</td>\n",
       "      <td>A</td>\n",
       "      <td>28</td>\n",
       "      <td>161</td>\n",
       "      <td>soleado</td>\n",
       "      <td>0</td>\n",
       "    </tr>\n",
       "    <tr>\n",
       "      <th>3</th>\n",
       "      <td>E</td>\n",
       "      <td>A</td>\n",
       "      <td>45</td>\n",
       "      <td>63</td>\n",
       "      <td>lluvioso</td>\n",
       "      <td>1</td>\n",
       "    </tr>\n",
       "    <tr>\n",
       "      <th>4</th>\n",
       "      <td>E</td>\n",
       "      <td>A</td>\n",
       "      <td>56</td>\n",
       "      <td>129</td>\n",
       "      <td>lluvioso</td>\n",
       "      <td>0</td>\n",
       "    </tr>\n",
       "  </tbody>\n",
       "</table>\n",
       "</div>"
      ],
      "text/plain": [
       "  origen destino  tiempo_viaje  num_pasajeros     clima  retraso\n",
       "0      D       E            36            217   nublado        1\n",
       "1      E       A            36            140  lluvioso        1\n",
       "2      C       A            28            161   soleado        0\n",
       "3      E       A            45             63  lluvioso        1\n",
       "4      E       A            56            129  lluvioso        0"
      ]
     },
     "execution_count": 25,
     "metadata": {},
     "output_type": "execute_result"
    }
   ],
   "source": [
    "import pandas as pd\n",
    "import numpy as np\n",
    "\n",
    "# Creamos los datos simulados para el sistema de transporte masivo\n",
    "np.random.seed(42)\n",
    "\n",
    "# Definimos las estaciones de ejemplo\n",
    "estaciones = ['A', 'B', 'C', 'D', 'E', 'F']\n",
    "\n",
    "# Creamos un dataframe simulando viajes\n",
    "data = {\n",
    "    'origen': np.random.choice(estaciones, 100),\n",
    "    'destino': np.random.choice(estaciones, 100),\n",
    "    'tiempo_viaje': np.random.randint(5, 60, size=100),  # Tiempo de viaje entre 5 y 60 minutos\n",
    "    'num_pasajeros': np.random.randint(10, 300, size=100),  # Número de pasajeros entre 10 y 300\n",
    "    'clima': np.random.choice(['soleado', 'lluvioso', 'nublado'], 100),  # Condición climática\n",
    "    'retraso': np.random.choice([0, 1], 100, p=[0.8, 0.2])  # 0 = sin retraso, 1 = con retraso\n",
    "}\n",
    "\n",
    "df = pd.DataFrame(data)\n",
    "\n",
    "# Mostramos las primeras filas del dataset\n",
    "df.head()"
   ]
  },
  {
   "cell_type": "markdown",
   "id": "e42cc655-304f-48e7-a11a-75730ec83f3a",
   "metadata": {},
   "source": [
    "# Paso 2: Preparar los Datos para el Modelo de Aprendizaje Supervisado\n",
    "El objetivo sea predecir si un viaje tendrá retraso o no, esa sería la variable objetivo (retraso). Por lo tanto vamos a preparar los datos para entrenar un modelo de clasificación."
   ]
  },
  {
   "cell_type": "code",
   "execution_count": 27,
   "id": "12ca7d63-ed6d-4337-9717-d54f1f7056f0",
   "metadata": {
    "tags": []
   },
   "outputs": [
    {
     "data": {
      "text/html": [
       "<div>\n",
       "<style scoped>\n",
       "    .dataframe tbody tr th:only-of-type {\n",
       "        vertical-align: middle;\n",
       "    }\n",
       "\n",
       "    .dataframe tbody tr th {\n",
       "        vertical-align: top;\n",
       "    }\n",
       "\n",
       "    .dataframe thead th {\n",
       "        text-align: right;\n",
       "    }\n",
       "</style>\n",
       "<table border=\"1\" class=\"dataframe\">\n",
       "  <thead>\n",
       "    <tr style=\"text-align: right;\">\n",
       "      <th></th>\n",
       "      <th>tiempo_viaje</th>\n",
       "      <th>num_pasajeros</th>\n",
       "      <th>origen_B</th>\n",
       "      <th>origen_C</th>\n",
       "      <th>origen_D</th>\n",
       "      <th>origen_E</th>\n",
       "      <th>origen_F</th>\n",
       "      <th>destino_B</th>\n",
       "      <th>destino_C</th>\n",
       "      <th>destino_D</th>\n",
       "      <th>destino_E</th>\n",
       "      <th>destino_F</th>\n",
       "      <th>clima_nublado</th>\n",
       "      <th>clima_soleado</th>\n",
       "    </tr>\n",
       "  </thead>\n",
       "  <tbody>\n",
       "    <tr>\n",
       "      <th>55</th>\n",
       "      <td>-0.459152</td>\n",
       "      <td>-1.358174</td>\n",
       "      <td>False</td>\n",
       "      <td>False</td>\n",
       "      <td>False</td>\n",
       "      <td>True</td>\n",
       "      <td>False</td>\n",
       "      <td>False</td>\n",
       "      <td>False</td>\n",
       "      <td>False</td>\n",
       "      <td>True</td>\n",
       "      <td>False</td>\n",
       "      <td>False</td>\n",
       "      <td>True</td>\n",
       "    </tr>\n",
       "    <tr>\n",
       "      <th>88</th>\n",
       "      <td>-1.590654</td>\n",
       "      <td>-1.370089</td>\n",
       "      <td>False</td>\n",
       "      <td>False</td>\n",
       "      <td>False</td>\n",
       "      <td>True</td>\n",
       "      <td>False</td>\n",
       "      <td>False</td>\n",
       "      <td>True</td>\n",
       "      <td>False</td>\n",
       "      <td>False</td>\n",
       "      <td>False</td>\n",
       "      <td>False</td>\n",
       "      <td>False</td>\n",
       "    </tr>\n",
       "    <tr>\n",
       "      <th>26</th>\n",
       "      <td>-0.518704</td>\n",
       "      <td>-1.405834</td>\n",
       "      <td>False</td>\n",
       "      <td>False</td>\n",
       "      <td>True</td>\n",
       "      <td>False</td>\n",
       "      <td>False</td>\n",
       "      <td>False</td>\n",
       "      <td>False</td>\n",
       "      <td>False</td>\n",
       "      <td>False</td>\n",
       "      <td>True</td>\n",
       "      <td>False</td>\n",
       "      <td>False</td>\n",
       "    </tr>\n",
       "    <tr>\n",
       "      <th>42</th>\n",
       "      <td>1.446536</td>\n",
       "      <td>-0.047540</td>\n",
       "      <td>False</td>\n",
       "      <td>False</td>\n",
       "      <td>False</td>\n",
       "      <td>True</td>\n",
       "      <td>False</td>\n",
       "      <td>False</td>\n",
       "      <td>False</td>\n",
       "      <td>True</td>\n",
       "      <td>False</td>\n",
       "      <td>False</td>\n",
       "      <td>False</td>\n",
       "      <td>True</td>\n",
       "    </tr>\n",
       "    <tr>\n",
       "      <th>69</th>\n",
       "      <td>-0.578257</td>\n",
       "      <td>0.857989</td>\n",
       "      <td>False</td>\n",
       "      <td>False</td>\n",
       "      <td>False</td>\n",
       "      <td>False</td>\n",
       "      <td>True</td>\n",
       "      <td>False</td>\n",
       "      <td>False</td>\n",
       "      <td>True</td>\n",
       "      <td>False</td>\n",
       "      <td>False</td>\n",
       "      <td>False</td>\n",
       "      <td>False</td>\n",
       "    </tr>\n",
       "  </tbody>\n",
       "</table>\n",
       "</div>"
      ],
      "text/plain": [
       "    tiempo_viaje  num_pasajeros  origen_B  origen_C  origen_D  origen_E  \\\n",
       "55     -0.459152      -1.358174     False     False     False      True   \n",
       "88     -1.590654      -1.370089     False     False     False      True   \n",
       "26     -0.518704      -1.405834     False     False      True     False   \n",
       "42      1.446536      -0.047540     False     False     False      True   \n",
       "69     -0.578257       0.857989     False     False     False     False   \n",
       "\n",
       "    origen_F  destino_B  destino_C  destino_D  destino_E  destino_F  \\\n",
       "55     False      False      False      False       True      False   \n",
       "88     False      False       True      False      False      False   \n",
       "26     False      False      False      False      False       True   \n",
       "42     False      False      False       True      False      False   \n",
       "69      True      False      False       True      False      False   \n",
       "\n",
       "    clima_nublado  clima_soleado  \n",
       "55          False           True  \n",
       "88          False          False  \n",
       "26          False          False  \n",
       "42          False           True  \n",
       "69          False          False  "
      ]
     },
     "execution_count": 27,
     "metadata": {},
     "output_type": "execute_result"
    }
   ],
   "source": [
    "from sklearn.preprocessing import StandardScaler\n",
    "\n",
    "# Convertimos las columnas categóricas a variables dummy\n",
    "df = pd.get_dummies(df, columns=['origen', 'destino', 'clima'], drop_first=True)\n",
    "\n",
    "# Escalamos características numéricas\n",
    "scaler = StandardScaler()\n",
    "df[['tiempo_viaje', 'num_pasajeros']] = scaler.fit_transform(df[['tiempo_viaje', 'num_pasajeros']])\n",
    "\n",
    "# Separamos las variables predictoras y la variable objetivo\n",
    "X = df.drop('retraso', axis=1)  # Variables predictoras\n",
    "y = df['retraso']  # Variable objetivo\n",
    "\n",
    "# Dividimos el conjunto de datos en entrenamiento y prueba\n",
    "from sklearn.model_selection import train_test_split\n",
    "X_train, X_test, y_train, y_test = train_test_split(X, y, test_size=0.2, random_state=42)\n",
    "\n",
    "# Mostramos la estructura de los datos de entrenamiento en pantalla\n",
    "X_train.head()"
   ]
  },
  {
   "cell_type": "markdown",
   "id": "185848f8-3348-47ee-bf12-0e9b681ebf45",
   "metadata": {},
   "source": [
    "# Paso 3: Entrenar un Modelo de Aprendizaje Supervisado (Clasificación)\n",
    "Voy a utilizar un modelo de clasificación, decidí usar en este caso, un árbol de decisión para predecir si un viaje tendrá retraso."
   ]
  },
  {
   "cell_type": "markdown",
   "id": "f5b82d6d-970c-4d20-b3fd-9a12620e5030",
   "metadata": {},
   "source": [
    "## Módelo 1: Árbol de decisión"
   ]
  },
  {
   "cell_type": "code",
   "execution_count": 31,
   "id": "13024152-3904-40ef-b23b-fcf1afd692ca",
   "metadata": {
    "tags": []
   },
   "outputs": [
    {
     "name": "stdout",
     "output_type": "stream",
     "text": [
      "Mejores hiperparámetros: {'criterion': 'gini', 'max_depth': 2, 'min_samples_leaf': 1, 'splitter': 'random'}\n",
      "Exactitud del modelo optimizado: 55.00%\n",
      "              precision    recall  f1-score   support\n",
      "\n",
      "           0       0.59      0.83      0.69        12\n",
      "           1       0.33      0.12      0.18         8\n",
      "\n",
      "    accuracy                           0.55        20\n",
      "   macro avg       0.46      0.48      0.44        20\n",
      "weighted avg       0.49      0.55      0.49        20\n",
      "\n"
     ]
    }
   ],
   "source": [
    "from sklearn.model_selection import GridSearchCV\n",
    "from sklearn.tree import DecisionTreeClassifier\n",
    "from sklearn.metrics import accuracy_score, classification_report\n",
    "\n",
    "# Definimos el modelo del árbol de decisión\n",
    "modelo = DecisionTreeClassifier(random_state=42)\n",
    "\n",
    "# Definimos los hiperparámetros que queremos probar\n",
    "parametros = {\n",
    "    'max_depth': [2, 5, 10, 20],\n",
    "    'min_samples_leaf': [1, 5, 10],\n",
    "    'criterion': ['gini', 'entropy'],\n",
    "    'splitter': ['best', 'random']  # Añadir más criterios para probar\n",
    "}\n",
    "\n",
    "# Aplicamos GridSearchCV para encontrar la mejor combinación de hiperparámetros\n",
    "grid_search = GridSearchCV(modelo, parametros, cv=5, scoring='accuracy')\n",
    "grid_search.fit(X_train, y_train)\n",
    "\n",
    "# Mostramos los mejores parámetros encontrados\n",
    "print(f\"Mejores hiperparámetros: {grid_search.best_params_}\")\n",
    "\n",
    "# Evaluamos el modelo con los mejores parámetros\n",
    "mejor_modelo = grid_search.best_estimator_\n",
    "y_pred = mejor_modelo.predict(X_test)\n",
    "\n",
    "# Mostramos la nueva exactitud\n",
    "print(f\"Exactitud del modelo optimizado: {accuracy_score(y_test, y_pred) * 100:.2f}%\")\n",
    "print(classification_report(y_test, y_pred))"
   ]
  },
  {
   "cell_type": "markdown",
   "id": "4d864a5b-c384-4db1-ae14-df76a5e11aad",
   "metadata": {},
   "source": [
    "## Modelo 2: Random Forest\n",
    "El modelo Random Forest es un conjunto de árboles de decisión, lo que suele mejorar la precisión y reducir el sobreajuste."
   ]
  },
  {
   "cell_type": "code",
   "execution_count": 33,
   "id": "39c7d5c9-19be-4a89-80b7-4e58a1230b80",
   "metadata": {
    "tags": []
   },
   "outputs": [
    {
     "name": "stdout",
     "output_type": "stream",
     "text": [
      "Exactitud del modelo Random Forest: 60.00%\n",
      "              precision    recall  f1-score   support\n",
      "\n",
      "           0       0.61      0.92      0.73        12\n",
      "           1       0.50      0.12      0.20         8\n",
      "\n",
      "    accuracy                           0.60        20\n",
      "   macro avg       0.56      0.52      0.47        20\n",
      "weighted avg       0.57      0.60      0.52        20\n",
      "\n"
     ]
    }
   ],
   "source": [
    "from sklearn.ensemble import RandomForestClassifier\n",
    "from sklearn.metrics import accuracy_score, classification_report\n",
    "\n",
    "# Definimos el modelo Random Forest\n",
    "rf_model = RandomForestClassifier(random_state=42)\n",
    "\n",
    "# Entrenamos el modelo\n",
    "rf_model.fit(X_train, y_train)\n",
    "\n",
    "# Hacemos predicciones\n",
    "y_pred_rf = rf_model.predict(X_test)\n",
    "\n",
    "# Evaluamos el modelo\n",
    "print(f\"Exactitud del modelo Random Forest: {accuracy_score(y_test, y_pred_rf) * 100:.2f}%\")\n",
    "print(classification_report(y_test, y_pred_rf))"
   ]
  },
  {
   "cell_type": "markdown",
   "id": "ee389298-7e09-4e6f-9d98-e6d60ef741d2",
   "metadata": {},
   "source": [
    "# Modelo 3: SVM (Support Vector Machine)\n",
    "SVM es otro algoritmo para clasificación que intenta encontrar el mejor hiperplano que separe las clases de datos."
   ]
  },
  {
   "cell_type": "code",
   "execution_count": 35,
   "id": "76f0479e-4e7a-4772-ae7e-1ed803dda674",
   "metadata": {
    "tags": []
   },
   "outputs": [
    {
     "name": "stdout",
     "output_type": "stream",
     "text": [
      "Exactitud del modelo SVM: 60.00%\n",
      "              precision    recall  f1-score   support\n",
      "\n",
      "           0       0.61      0.92      0.73        12\n",
      "           1       0.50      0.12      0.20         8\n",
      "\n",
      "    accuracy                           0.60        20\n",
      "   macro avg       0.56      0.52      0.47        20\n",
      "weighted avg       0.57      0.60      0.52        20\n",
      "\n"
     ]
    }
   ],
   "source": [
    "from sklearn.svm import SVC\n",
    "\n",
    "# Definimos el modelo SVM\n",
    "svm_model = SVC(random_state=42)\n",
    "\n",
    "# Entrenamos el modelo\n",
    "svm_model.fit(X_train, y_train)\n",
    "\n",
    "# Hacemos predicciones\n",
    "y_pred_svm = svm_model.predict(X_test)\n",
    "\n",
    "# Evaluamos el modelo\n",
    "print(f\"Exactitud del modelo SVM: {accuracy_score(y_test, y_pred_svm) * 100:.2f}%\")\n",
    "print(classification_report(y_test, y_pred_svm))"
   ]
  },
  {
   "cell_type": "markdown",
   "id": "50b777d5-3c79-41e1-ae94-5c5de9ade359",
   "metadata": {},
   "source": [
    "# Gracias"
   ]
  }
 ],
 "metadata": {
  "kernelspec": {
   "display_name": "Python 3 (ipykernel)",
   "language": "python",
   "name": "python3"
  },
  "language_info": {
   "codemirror_mode": {
    "name": "ipython",
    "version": 3
   },
   "file_extension": ".py",
   "mimetype": "text/x-python",
   "name": "python",
   "nbconvert_exporter": "python",
   "pygments_lexer": "ipython3",
   "version": "3.11.5"
  }
 },
 "nbformat": 4,
 "nbformat_minor": 5
}
